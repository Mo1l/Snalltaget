{
 "cells": [
  {
   "cell_type": "code",
   "execution_count": 3,
   "metadata": {},
   "outputs": [],
   "source": [
    "import pickle\n",
    "from bitarray import test\n",
    "import pandas as pd \n",
    "import numpy as np\n",
    "from datetime import datetime\n",
    "from tqdm import tqdm\n",
    "from selenium import webdriver\n",
    "import re\n",
    "from concurrent.futures import ThreadPoolExecutor\n",
    "import threading\n",
    "from selenium.common.exceptions import NoSuchElementException\n",
    "import os\n",
    "#import geopandas as gpd\n",
    "import time\n",
    "from selenium.webdriver.common.by import By\n",
    "from selenium.webdriver.common.keys import Keys\n",
    "\n",
    "\n",
    "options = webdriver.ChromeOptions()\n",
    "options.add_argument(\"--ignore-certificate-errors\")\n",
    "options.add_argument(\"--incognito\")\n",
    "#options.add_argument(\"--headless\")\n",
    "\n",
    "\n"
   ]
  },
  {
   "cell_type": "code",
   "execution_count": 4,
   "metadata": {},
   "outputs": [
    {
     "data": {
      "text/plain": [
       "<selenium.webdriver.remote.webelement.WebElement (session=\"c3ed3036dcbb55a65c1c28722acece3e\", element=\"96fd1672-6124-41c5-a2a9-80546df79e9e\")>"
      ]
     },
     "execution_count": 4,
     "metadata": {},
     "output_type": "execute_result"
    }
   ],
   "source": [
    "start_time = datetime.now() \n",
    " \n",
    "browser = webdriver.Chrome(executable_path=\"C:\\Program Files\\Google\\ChromeDriver\\chromedriver.exe\",options=options)\n",
    "\n",
    "url  = \"https://www.snalltaget.se/\"\n",
    "browser.get(url)\n",
    "\n",
    "browser.implicitly_wait(5)\n",
    "\n",
    "browser.find_element_by_class_name('form-control')\n",
    "\n",
    "#browser.find_element_by_class_name('location-list').sendKeys('Malmo C')\n",
    "\n",
    "browser.find_element_by_xpath(\"//input[starts-with(@id, 'id_')]\")\n",
    "\n",
    "browser.find_element_by_xpath(\"//input[starts-with(@id, 'id_')]\")\n"
   ]
  },
  {
   "cell_type": "code",
   "execution_count": 31,
   "metadata": {},
   "outputs": [
    {
     "ename": "NoSuchElementException",
     "evalue": "Message: no such element: Unable to locate element: {\"method\":\"xpath\",\"selector\":\"//*[@id=\"reservation-dialog\"]/div/div/div/div/div[1]/div/div[2]/section[1]/div/div[1]/div[4]/label\"}\n  (Session info: chrome=107.0.5304.88)\n",
     "output_type": "error",
     "traceback": [
      "\u001b[1;31m---------------------------------------------------------------------------\u001b[0m",
      "\u001b[1;31mNoSuchElementException\u001b[0m                    Traceback (most recent call last)",
      "\u001b[1;32m~\\AppData\\Local\\Temp/ipykernel_24920/24629243.py\u001b[0m in \u001b[0;36m<module>\u001b[1;34m\u001b[0m\n\u001b[0;32m     86\u001b[0m \u001b[1;33m\u001b[0m\u001b[0m\n\u001b[0;32m     87\u001b[0m \u001b[1;31m# Find Egen kupe:\u001b[0m\u001b[1;33m\u001b[0m\u001b[1;33m\u001b[0m\u001b[0m\n\u001b[1;32m---> 88\u001b[1;33m \u001b[0megen_kupe\u001b[0m\u001b[1;33m=\u001b[0m\u001b[0mbrowser\u001b[0m\u001b[1;33m.\u001b[0m\u001b[0mfind_element_by_xpath\u001b[0m\u001b[1;33m(\u001b[0m\u001b[1;34m'//*[@id=\"reservation-dialog\"]/div/div/div/div/div[1]/div/div[2]/section[1]/div/div[1]/div[4]/label'\u001b[0m\u001b[1;33m)\u001b[0m\u001b[1;33m\u001b[0m\u001b[1;33m\u001b[0m\u001b[0m\n\u001b[0m\u001b[0;32m     89\u001b[0m \u001b[0megen_kupe\u001b[0m\u001b[1;33m.\u001b[0m\u001b[0mclick\u001b[0m\u001b[1;33m(\u001b[0m\u001b[1;33m)\u001b[0m\u001b[1;33m\u001b[0m\u001b[1;33m\u001b[0m\u001b[0m\n\u001b[0;32m     90\u001b[0m \u001b[1;33m\u001b[0m\u001b[0m\n",
      "\u001b[1;32mc:\\Users\\nikol\\anaconda3\\lib\\site-packages\\selenium\\webdriver\\remote\\webdriver.py\u001b[0m in \u001b[0;36mfind_element_by_xpath\u001b[1;34m(self, xpath)\u001b[0m\n\u001b[0;32m    392\u001b[0m             \u001b[0melement\u001b[0m \u001b[1;33m=\u001b[0m \u001b[0mdriver\u001b[0m\u001b[1;33m.\u001b[0m\u001b[0mfind_element_by_xpath\u001b[0m\u001b[1;33m(\u001b[0m\u001b[1;34m'//div/td[1]'\u001b[0m\u001b[1;33m)\u001b[0m\u001b[1;33m\u001b[0m\u001b[1;33m\u001b[0m\u001b[0m\n\u001b[0;32m    393\u001b[0m         \"\"\"\n\u001b[1;32m--> 394\u001b[1;33m         \u001b[1;32mreturn\u001b[0m \u001b[0mself\u001b[0m\u001b[1;33m.\u001b[0m\u001b[0mfind_element\u001b[0m\u001b[1;33m(\u001b[0m\u001b[0mby\u001b[0m\u001b[1;33m=\u001b[0m\u001b[0mBy\u001b[0m\u001b[1;33m.\u001b[0m\u001b[0mXPATH\u001b[0m\u001b[1;33m,\u001b[0m \u001b[0mvalue\u001b[0m\u001b[1;33m=\u001b[0m\u001b[0mxpath\u001b[0m\u001b[1;33m)\u001b[0m\u001b[1;33m\u001b[0m\u001b[1;33m\u001b[0m\u001b[0m\n\u001b[0m\u001b[0;32m    395\u001b[0m \u001b[1;33m\u001b[0m\u001b[0m\n\u001b[0;32m    396\u001b[0m     \u001b[1;32mdef\u001b[0m \u001b[0mfind_elements_by_xpath\u001b[0m\u001b[1;33m(\u001b[0m\u001b[0mself\u001b[0m\u001b[1;33m,\u001b[0m \u001b[0mxpath\u001b[0m\u001b[1;33m)\u001b[0m\u001b[1;33m:\u001b[0m\u001b[1;33m\u001b[0m\u001b[1;33m\u001b[0m\u001b[0m\n",
      "\u001b[1;32mc:\\Users\\nikol\\anaconda3\\lib\\site-packages\\selenium\\webdriver\\remote\\webdriver.py\u001b[0m in \u001b[0;36mfind_element\u001b[1;34m(self, by, value)\u001b[0m\n\u001b[0;32m    974\u001b[0m                 \u001b[0mby\u001b[0m \u001b[1;33m=\u001b[0m \u001b[0mBy\u001b[0m\u001b[1;33m.\u001b[0m\u001b[0mCSS_SELECTOR\u001b[0m\u001b[1;33m\u001b[0m\u001b[1;33m\u001b[0m\u001b[0m\n\u001b[0;32m    975\u001b[0m                 \u001b[0mvalue\u001b[0m \u001b[1;33m=\u001b[0m \u001b[1;34m'[name=\"%s\"]'\u001b[0m \u001b[1;33m%\u001b[0m \u001b[0mvalue\u001b[0m\u001b[1;33m\u001b[0m\u001b[1;33m\u001b[0m\u001b[0m\n\u001b[1;32m--> 976\u001b[1;33m         return self.execute(Command.FIND_ELEMENT, {\n\u001b[0m\u001b[0;32m    977\u001b[0m             \u001b[1;34m'using'\u001b[0m\u001b[1;33m:\u001b[0m \u001b[0mby\u001b[0m\u001b[1;33m,\u001b[0m\u001b[1;33m\u001b[0m\u001b[1;33m\u001b[0m\u001b[0m\n\u001b[0;32m    978\u001b[0m             'value': value})['value']\n",
      "\u001b[1;32mc:\\Users\\nikol\\anaconda3\\lib\\site-packages\\selenium\\webdriver\\remote\\webdriver.py\u001b[0m in \u001b[0;36mexecute\u001b[1;34m(self, driver_command, params)\u001b[0m\n\u001b[0;32m    319\u001b[0m         \u001b[0mresponse\u001b[0m \u001b[1;33m=\u001b[0m \u001b[0mself\u001b[0m\u001b[1;33m.\u001b[0m\u001b[0mcommand_executor\u001b[0m\u001b[1;33m.\u001b[0m\u001b[0mexecute\u001b[0m\u001b[1;33m(\u001b[0m\u001b[0mdriver_command\u001b[0m\u001b[1;33m,\u001b[0m \u001b[0mparams\u001b[0m\u001b[1;33m)\u001b[0m\u001b[1;33m\u001b[0m\u001b[1;33m\u001b[0m\u001b[0m\n\u001b[0;32m    320\u001b[0m         \u001b[1;32mif\u001b[0m \u001b[0mresponse\u001b[0m\u001b[1;33m:\u001b[0m\u001b[1;33m\u001b[0m\u001b[1;33m\u001b[0m\u001b[0m\n\u001b[1;32m--> 321\u001b[1;33m             \u001b[0mself\u001b[0m\u001b[1;33m.\u001b[0m\u001b[0merror_handler\u001b[0m\u001b[1;33m.\u001b[0m\u001b[0mcheck_response\u001b[0m\u001b[1;33m(\u001b[0m\u001b[0mresponse\u001b[0m\u001b[1;33m)\u001b[0m\u001b[1;33m\u001b[0m\u001b[1;33m\u001b[0m\u001b[0m\n\u001b[0m\u001b[0;32m    322\u001b[0m             response['value'] = self._unwrap_value(\n\u001b[0;32m    323\u001b[0m                 response.get('value', None))\n",
      "\u001b[1;32mc:\\Users\\nikol\\anaconda3\\lib\\site-packages\\selenium\\webdriver\\remote\\errorhandler.py\u001b[0m in \u001b[0;36mcheck_response\u001b[1;34m(self, response)\u001b[0m\n\u001b[0;32m    240\u001b[0m                 \u001b[0malert_text\u001b[0m \u001b[1;33m=\u001b[0m \u001b[0mvalue\u001b[0m\u001b[1;33m[\u001b[0m\u001b[1;34m'alert'\u001b[0m\u001b[1;33m]\u001b[0m\u001b[1;33m.\u001b[0m\u001b[0mget\u001b[0m\u001b[1;33m(\u001b[0m\u001b[1;34m'text'\u001b[0m\u001b[1;33m)\u001b[0m\u001b[1;33m\u001b[0m\u001b[1;33m\u001b[0m\u001b[0m\n\u001b[0;32m    241\u001b[0m             \u001b[1;32mraise\u001b[0m \u001b[0mexception_class\u001b[0m\u001b[1;33m(\u001b[0m\u001b[0mmessage\u001b[0m\u001b[1;33m,\u001b[0m \u001b[0mscreen\u001b[0m\u001b[1;33m,\u001b[0m \u001b[0mstacktrace\u001b[0m\u001b[1;33m,\u001b[0m \u001b[0malert_text\u001b[0m\u001b[1;33m)\u001b[0m\u001b[1;33m\u001b[0m\u001b[1;33m\u001b[0m\u001b[0m\n\u001b[1;32m--> 242\u001b[1;33m         \u001b[1;32mraise\u001b[0m \u001b[0mexception_class\u001b[0m\u001b[1;33m(\u001b[0m\u001b[0mmessage\u001b[0m\u001b[1;33m,\u001b[0m \u001b[0mscreen\u001b[0m\u001b[1;33m,\u001b[0m \u001b[0mstacktrace\u001b[0m\u001b[1;33m)\u001b[0m\u001b[1;33m\u001b[0m\u001b[1;33m\u001b[0m\u001b[0m\n\u001b[0m\u001b[0;32m    243\u001b[0m \u001b[1;33m\u001b[0m\u001b[0m\n\u001b[0;32m    244\u001b[0m     \u001b[1;32mdef\u001b[0m \u001b[0m_value_or_default\u001b[0m\u001b[1;33m(\u001b[0m\u001b[0mself\u001b[0m\u001b[1;33m,\u001b[0m \u001b[0mobj\u001b[0m\u001b[1;33m,\u001b[0m \u001b[0mkey\u001b[0m\u001b[1;33m,\u001b[0m \u001b[0mdefault\u001b[0m\u001b[1;33m)\u001b[0m\u001b[1;33m:\u001b[0m\u001b[1;33m\u001b[0m\u001b[1;33m\u001b[0m\u001b[0m\n",
      "\u001b[1;31mNoSuchElementException\u001b[0m: Message: no such element: Unable to locate element: {\"method\":\"xpath\",\"selector\":\"//*[@id=\"reservation-dialog\"]/div/div/div/div/div[1]/div/div[2]/section[1]/div/div[1]/div[4]/label\"}\n  (Session info: chrome=107.0.5304.88)\n"
     ]
    }
   ],
   "source": [
    "# Get From and To Fields:\n",
    "inputs=browser.find_elements_by_xpath(\"//input[starts-with(@id, 'id_')]\")\n",
    "\n",
    "# Manipulate From field:\n",
    "input = inputs[0]\n",
    "input.send_keys('Malmö C')\n",
    "input.send_keys(Keys.DOWN)\n",
    "input.send_keys(Keys.ENTER)\n",
    "input.send_keys(Keys.TAB)\n",
    "\n",
    "# Manipulate to Field\n",
    "input=inputs[1]\n",
    "input.send_keys('Åre')\n",
    "input.send_keys(Keys.DOWN)\n",
    "input.send_keys(Keys.ENTER)\n",
    "input.send_keys(Keys.TAB)\n",
    "\n",
    "# Click button:\n",
    "button=browser.find_element_by_xpath(\"//button[@class='btn btn-primary']\").click()\n",
    "\n",
    "# Calendar Navigation:\n",
    "# Edits year\n",
    "cla_ys=browser.find_elements_by_class_name('d-year')\n",
    "\n",
    "# Show calendar choices\n",
    "cla_ys[0].click()\n",
    "cla_ys[1].click()\n",
    "\n",
    "# Choose year 23\n",
    "year_btns=browser.find_elements_by_xpath('//*[@id=\"Datepickk\"]/div[2]/div[3]/div[7]')\n",
    "year_btns[0].click()\n",
    "year_btns[1].click()\n",
    "\n",
    "\n",
    "# Choose months:\n",
    "cla_ms=browser.find_elements_by_class_name('d-month')\n",
    "\n",
    "cla_ms[0].click()\n",
    "cla_ms[1].click()\n",
    "\n",
    "month_btns=browser.find_elements_by_xpath('//*[@id=\"Datepickk\"]/div[2]/div[2]/div[1]')\n",
    "month_btns[0].click()\n",
    "month_btns[1].click()\n",
    "\n",
    "# Click from date 18\n",
    "dates=browser.find_elements_by_xpath('//*[@id=\"Datepickk\"]/div[2]/div[5]/div/label[24]')\n",
    "dates[0].click()\n",
    "\n",
    "# Click to date \n",
    "dates=browser.find_elements_by_xpath('//*[@id=\"Datepickk\"]/div[2]/div[5]/div/label[28]')\n",
    "dates[1].click()\n",
    "\n",
    "# Edit to Gry \n",
    "pas1=browser.find_element_by_class_name(\"passenger\")\n",
    "pas_type=pas1.find_element_by_class_name('form-control')\n",
    "pas_type.send_keys('Barn/Ungdom')\n",
    "pas_type.send_keys(Keys.TAB)\n",
    "\n",
    "pas1=browser.find_element_by_class_name(\"passenger\")\n",
    "age_f=pas1.find_elements_by_class_name('form-control')\n",
    "age_f[1].send_keys('1')\n",
    "age_f[1].send_keys(Keys.TAB)\n",
    "\n",
    "# add travellers\n",
    "def click_add_passenger():\n",
    "    addp_btn_field = browser.find_element_by_xpath('//*[@id=\"reservation-dialog\"]/div/div/div/form/section/div/div[1]')\n",
    "    addp_btn = addp_btn_field.find_elements_by_class_name('btn')\n",
    "    addp_btn[-1].click()\n",
    "\n",
    "for i in range(5):\n",
    "    click_add_passenger()\n",
    "\n",
    "# Press Submit\n",
    "soeg_field=browser.find_element_by_class_name('submit')\n",
    "soeg_btn=soeg_field.find_element_by_class_name('btn')\n",
    "soeg_btn.click()\n",
    "\n",
    "# Wait awhile\n",
    "time.sleep(10)\n",
    "\n",
    "# When wait is over - continue \n",
    "\n",
    "soeg_field=browser.find_element_by_class_name('submit')\n",
    "soeg_btn=soeg_field.find_element_by_class_name('btn')\n",
    "soeg_btn.click()\n",
    "\n",
    "# Find Egen kupe:\n",
    "egen_kupe=browser.find_element_by_xpath('//*[@id=\"reservation-dialog\"]/div/div/div/div/div[1]/div/div[2]/section[1]/div/div[1]/div[4]/label')\n",
    "egen_kupe.click()\n",
    "\n",
    "# Fortsatt\n",
    "soeg_field=browser.find_element_by_class_name('submit')\n",
    "soeg_btn=soeg_field.find_element_by_class_name('btn')\n",
    "soeg_btn.click()\n",
    "\n",
    "# Find egen kupe for hjemrejse\n",
    "egen_kupe=browser.find_element_by_xpath('//*[@id=\"reservation-dialog\"]/div/div/div/div/div[1]/div/div[2]/section[1]/div/div[1]/div[4]/label')\n",
    "egen_kupe.click()\n",
    "\n",
    "\n",
    "# Ved ikke hvordan jeg skal tjekke om de enkelte rejser er udsolgt.\n",
    "\n"
   ]
  },
  {
   "cell_type": "markdown",
   "metadata": {},
   "source": []
  },
  {
   "cell_type": "markdown",
   "metadata": {},
   "source": []
  },
  {
   "cell_type": "code",
   "execution_count": 29,
   "metadata": {},
   "outputs": [
    {
     "name": "stdout",
     "output_type": "stream",
     "text": [
      "\n"
     ]
    }
   ],
   "source": [
    "print(egen_kupe.get_attribute('innerHTML'))"
   ]
  },
  {
   "cell_type": "code",
   "execution_count": 225,
   "metadata": {},
   "outputs": [],
   "source": [
    "\n"
   ]
  },
  {
   "cell_type": "code",
   "execution_count": null,
   "metadata": {},
   "outputs": [],
   "source": []
  },
  {
   "cell_type": "code",
   "execution_count": null,
   "metadata": {},
   "outputs": [],
   "source": []
  }
 ],
 "metadata": {
  "kernelspec": {
   "display_name": "Python 3.9.7 ('base')",
   "language": "python",
   "name": "python3"
  },
  "language_info": {
   "codemirror_mode": {
    "name": "ipython",
    "version": 3
   },
   "file_extension": ".py",
   "mimetype": "text/x-python",
   "name": "python",
   "nbconvert_exporter": "python",
   "pygments_lexer": "ipython3",
   "version": "3.9.7"
  },
  "orig_nbformat": 4,
  "vscode": {
   "interpreter": {
    "hash": "3cd3f272ade86502382c27277d68048cbeb730daa1b0a0ce4c44df08cbc00045"
   }
  }
 },
 "nbformat": 4,
 "nbformat_minor": 2
}
